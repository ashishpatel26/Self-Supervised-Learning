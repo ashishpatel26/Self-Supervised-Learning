{
  "nbformat": 4,
  "nbformat_minor": 0,
  "metadata": {
    "colab": {
      "name": "SimpleCLR.ipynb",
      "provenance": []
    },
    "kernelspec": {
      "name": "python3",
      "display_name": "Python 3"
    },
    "language_info": {
      "name": "python"
    },
    "accelerator": "GPU"
  },
  "cells": [
    {
      "cell_type": "markdown",
      "source": [
        "### What is SimpleCLR?\n",
        "* **SimCLR** is a framework for contrastive learning of visual representations. It learns representations by maximizing agreement between differently augmented views of the same data example via a contrastive loss in the latent space.\n",
        "* **SimCLR** was presented in the Paper “A Simple Framework for Contrastive Learning of Visual Representations” by Chen et al. from Google Research in 2020. \n",
        "* The ideas in this paper are relatively simple and intuitive, but there is also a novel loss function that is key for achieve great performance for self-supervised pre-training.  \n",
        "![](https://miro.medium.com/max/700/1*NjdVYtL4C2HmV1r22XIweg.png)"
      ],
      "metadata": {
        "id": "sWRkoODAoWkD"
      }
    },
    {
      "cell_type": "code",
      "execution_count": 16,
      "metadata": {
        "id": "wrE5G0j5l8m4"
      },
      "outputs": [],
      "source": [
        "# !pip install lightly av"
      ]
    },
    {
      "cell_type": "code",
      "source": [
        "import torch\n",
        "from torch import nn\n",
        "import torchvision\n",
        "\n",
        "from lightly.data import LightlyDataset\n",
        "from lightly.data import SimCLRCollateFunction\n",
        "from lightly.loss import NTXentLoss\n",
        "from lightly.models.modules import SimCLRProjectionHead"
      ],
      "metadata": {
        "id": "_EYBgbedmbbs"
      },
      "execution_count": 7,
      "outputs": []
    },
    {
      "cell_type": "code",
      "source": [
        "class SimCLR(nn.Module):\n",
        "    def __init__(self, backbone):\n",
        "        super().__init__()\n",
        "        self.backbone = backbone\n",
        "        self.projection_head = SimCLRProjectionHead(512, 512, 128)\n",
        "\n",
        "    def forward(self, x):\n",
        "        x = self.backbone(x).flatten(start_dim=1)\n",
        "        z = self.projection_head(x)\n",
        "        return z"
      ],
      "metadata": {
        "id": "GnEwXCAUm0mN"
      },
      "execution_count": 8,
      "outputs": []
    },
    {
      "cell_type": "code",
      "source": [
        "resnet = torchvision.models.resnet34()\n",
        "backbone = nn.Sequential(*list(resnet.children())[:-1])\n",
        "model = SimCLR(backbone)"
      ],
      "metadata": {
        "id": "4EWdTd32m2PC"
      },
      "execution_count": 9,
      "outputs": []
    },
    {
      "cell_type": "code",
      "source": [
        "device = \"cuda\" if torch.cuda.is_available() else \"cpu\"\n",
        "model.to(device)"
      ],
      "metadata": {
        "colab": {
          "base_uri": "https://localhost:8080/"
        },
        "id": "4ymJGEGam61c",
        "outputId": "faa04214-6529-4e8d-d444-1b0a57a9ba02"
      },
      "execution_count": 17,
      "outputs": [
        {
          "output_type": "execute_result",
          "data": {
            "text/plain": [
              "SimCLR(\n",
              "  (backbone): Sequential(\n",
              "    (0): Conv2d(3, 64, kernel_size=(7, 7), stride=(2, 2), padding=(3, 3), bias=False)\n",
              "    (1): BatchNorm2d(64, eps=1e-05, momentum=0.1, affine=True, track_running_stats=True)\n",
              "    (2): ReLU(inplace=True)\n",
              "    (3): MaxPool2d(kernel_size=3, stride=2, padding=1, dilation=1, ceil_mode=False)\n",
              "    (4): Sequential(\n",
              "      (0): BasicBlock(\n",
              "        (conv1): Conv2d(64, 64, kernel_size=(3, 3), stride=(1, 1), padding=(1, 1), bias=False)\n",
              "        (bn1): BatchNorm2d(64, eps=1e-05, momentum=0.1, affine=True, track_running_stats=True)\n",
              "        (relu): ReLU(inplace=True)\n",
              "        (conv2): Conv2d(64, 64, kernel_size=(3, 3), stride=(1, 1), padding=(1, 1), bias=False)\n",
              "        (bn2): BatchNorm2d(64, eps=1e-05, momentum=0.1, affine=True, track_running_stats=True)\n",
              "      )\n",
              "      (1): BasicBlock(\n",
              "        (conv1): Conv2d(64, 64, kernel_size=(3, 3), stride=(1, 1), padding=(1, 1), bias=False)\n",
              "        (bn1): BatchNorm2d(64, eps=1e-05, momentum=0.1, affine=True, track_running_stats=True)\n",
              "        (relu): ReLU(inplace=True)\n",
              "        (conv2): Conv2d(64, 64, kernel_size=(3, 3), stride=(1, 1), padding=(1, 1), bias=False)\n",
              "        (bn2): BatchNorm2d(64, eps=1e-05, momentum=0.1, affine=True, track_running_stats=True)\n",
              "      )\n",
              "    )\n",
              "    (5): Sequential(\n",
              "      (0): BasicBlock(\n",
              "        (conv1): Conv2d(64, 128, kernel_size=(3, 3), stride=(2, 2), padding=(1, 1), bias=False)\n",
              "        (bn1): BatchNorm2d(128, eps=1e-05, momentum=0.1, affine=True, track_running_stats=True)\n",
              "        (relu): ReLU(inplace=True)\n",
              "        (conv2): Conv2d(128, 128, kernel_size=(3, 3), stride=(1, 1), padding=(1, 1), bias=False)\n",
              "        (bn2): BatchNorm2d(128, eps=1e-05, momentum=0.1, affine=True, track_running_stats=True)\n",
              "        (downsample): Sequential(\n",
              "          (0): Conv2d(64, 128, kernel_size=(1, 1), stride=(2, 2), bias=False)\n",
              "          (1): BatchNorm2d(128, eps=1e-05, momentum=0.1, affine=True, track_running_stats=True)\n",
              "        )\n",
              "      )\n",
              "      (1): BasicBlock(\n",
              "        (conv1): Conv2d(128, 128, kernel_size=(3, 3), stride=(1, 1), padding=(1, 1), bias=False)\n",
              "        (bn1): BatchNorm2d(128, eps=1e-05, momentum=0.1, affine=True, track_running_stats=True)\n",
              "        (relu): ReLU(inplace=True)\n",
              "        (conv2): Conv2d(128, 128, kernel_size=(3, 3), stride=(1, 1), padding=(1, 1), bias=False)\n",
              "        (bn2): BatchNorm2d(128, eps=1e-05, momentum=0.1, affine=True, track_running_stats=True)\n",
              "      )\n",
              "    )\n",
              "    (6): Sequential(\n",
              "      (0): BasicBlock(\n",
              "        (conv1): Conv2d(128, 256, kernel_size=(3, 3), stride=(2, 2), padding=(1, 1), bias=False)\n",
              "        (bn1): BatchNorm2d(256, eps=1e-05, momentum=0.1, affine=True, track_running_stats=True)\n",
              "        (relu): ReLU(inplace=True)\n",
              "        (conv2): Conv2d(256, 256, kernel_size=(3, 3), stride=(1, 1), padding=(1, 1), bias=False)\n",
              "        (bn2): BatchNorm2d(256, eps=1e-05, momentum=0.1, affine=True, track_running_stats=True)\n",
              "        (downsample): Sequential(\n",
              "          (0): Conv2d(128, 256, kernel_size=(1, 1), stride=(2, 2), bias=False)\n",
              "          (1): BatchNorm2d(256, eps=1e-05, momentum=0.1, affine=True, track_running_stats=True)\n",
              "        )\n",
              "      )\n",
              "      (1): BasicBlock(\n",
              "        (conv1): Conv2d(256, 256, kernel_size=(3, 3), stride=(1, 1), padding=(1, 1), bias=False)\n",
              "        (bn1): BatchNorm2d(256, eps=1e-05, momentum=0.1, affine=True, track_running_stats=True)\n",
              "        (relu): ReLU(inplace=True)\n",
              "        (conv2): Conv2d(256, 256, kernel_size=(3, 3), stride=(1, 1), padding=(1, 1), bias=False)\n",
              "        (bn2): BatchNorm2d(256, eps=1e-05, momentum=0.1, affine=True, track_running_stats=True)\n",
              "      )\n",
              "    )\n",
              "    (7): Sequential(\n",
              "      (0): BasicBlock(\n",
              "        (conv1): Conv2d(256, 512, kernel_size=(3, 3), stride=(2, 2), padding=(1, 1), bias=False)\n",
              "        (bn1): BatchNorm2d(512, eps=1e-05, momentum=0.1, affine=True, track_running_stats=True)\n",
              "        (relu): ReLU(inplace=True)\n",
              "        (conv2): Conv2d(512, 512, kernel_size=(3, 3), stride=(1, 1), padding=(1, 1), bias=False)\n",
              "        (bn2): BatchNorm2d(512, eps=1e-05, momentum=0.1, affine=True, track_running_stats=True)\n",
              "        (downsample): Sequential(\n",
              "          (0): Conv2d(256, 512, kernel_size=(1, 1), stride=(2, 2), bias=False)\n",
              "          (1): BatchNorm2d(512, eps=1e-05, momentum=0.1, affine=True, track_running_stats=True)\n",
              "        )\n",
              "      )\n",
              "      (1): BasicBlock(\n",
              "        (conv1): Conv2d(512, 512, kernel_size=(3, 3), stride=(1, 1), padding=(1, 1), bias=False)\n",
              "        (bn1): BatchNorm2d(512, eps=1e-05, momentum=0.1, affine=True, track_running_stats=True)\n",
              "        (relu): ReLU(inplace=True)\n",
              "        (conv2): Conv2d(512, 512, kernel_size=(3, 3), stride=(1, 1), padding=(1, 1), bias=False)\n",
              "        (bn2): BatchNorm2d(512, eps=1e-05, momentum=0.1, affine=True, track_running_stats=True)\n",
              "      )\n",
              "    )\n",
              "    (8): AdaptiveAvgPool2d(output_size=(1, 1))\n",
              "  )\n",
              "  (projection_head): SimCLRProjectionHead(\n",
              "    (layers): Sequential(\n",
              "      (0): Linear(in_features=512, out_features=512, bias=True)\n",
              "      (1): ReLU()\n",
              "      (2): Linear(in_features=512, out_features=128, bias=True)\n",
              "    )\n",
              "  )\n",
              ")"
            ]
          },
          "metadata": {},
          "execution_count": 17
        }
      ]
    },
    {
      "cell_type": "code",
      "source": [
        "!pip install torch-summary"
      ],
      "metadata": {
        "colab": {
          "base_uri": "https://localhost:8080/"
        },
        "id": "hemUqoXSqIHj",
        "outputId": "20635437-f0ab-4a16-8bc2-0367a09907bc"
      },
      "execution_count": 23,
      "outputs": [
        {
          "output_type": "stream",
          "name": "stdout",
          "text": [
            "Collecting torch-summary\n",
            "  Downloading torch_summary-1.4.5-py3-none-any.whl (16 kB)\n",
            "Installing collected packages: torch-summary\n",
            "Successfully installed torch-summary-1.4.5\n"
          ]
        }
      ]
    },
    {
      "cell_type": "code",
      "source": [
        "from torchsummary import summary\n",
        "print(summary(model, (3, 32, 32), depth=3))"
      ],
      "metadata": {
        "colab": {
          "base_uri": "https://localhost:8080/"
        },
        "id": "OGVdV0ecqOHH",
        "outputId": "62f1a146-4242-4665-95c7-005314cf4a70"
      },
      "execution_count": 40,
      "outputs": [
        {
          "output_type": "stream",
          "name": "stdout",
          "text": [
            "==========================================================================================\n",
            "Layer (type:depth-idx)                   Output Shape              Param #\n",
            "==========================================================================================\n",
            "├─Sequential: 1-1                        [-1, 512, 1, 1]           --\n",
            "|    └─Conv2d: 2-1                       [-1, 64, 16, 16]          9,408\n",
            "|    └─BatchNorm2d: 2-2                  [-1, 64, 16, 16]          128\n",
            "|    └─ReLU: 2-3                         [-1, 64, 16, 16]          --\n",
            "|    └─MaxPool2d: 2-4                    [-1, 64, 8, 8]            --\n",
            "|    └─Sequential: 2-5                   [-1, 64, 8, 8]            --\n",
            "|    |    └─BasicBlock: 3-1              [-1, 64, 8, 8]            73,984\n",
            "|    |    └─BasicBlock: 3-2              [-1, 64, 8, 8]            73,984\n",
            "|    └─Sequential: 2-6                   [-1, 128, 4, 4]           --\n",
            "|    |    └─BasicBlock: 3-3              [-1, 128, 4, 4]           230,144\n",
            "|    |    └─BasicBlock: 3-4              [-1, 128, 4, 4]           295,424\n",
            "|    └─Sequential: 2-7                   [-1, 256, 2, 2]           --\n",
            "|    |    └─BasicBlock: 3-5              [-1, 256, 2, 2]           919,040\n",
            "|    |    └─BasicBlock: 3-6              [-1, 256, 2, 2]           1,180,672\n",
            "|    └─Sequential: 2-8                   [-1, 512, 1, 1]           --\n",
            "|    |    └─BasicBlock: 3-7              [-1, 512, 1, 1]           3,673,088\n",
            "|    |    └─BasicBlock: 3-8              [-1, 512, 1, 1]           4,720,640\n",
            "|    └─AdaptiveAvgPool2d: 2-9            [-1, 512, 1, 1]           --\n",
            "├─SimCLRProjectionHead: 1-2              [-1, 128]                 --\n",
            "|    └─Sequential: 2-10                  [-1, 128]                 --\n",
            "|    |    └─Linear: 3-9                  [-1, 512]                 262,656\n",
            "|    |    └─ReLU: 3-10                   [-1, 512]                 --\n",
            "|    |    └─Linear: 3-11                 [-1, 128]                 65,664\n",
            "==========================================================================================\n",
            "Total params: 11,504,832\n",
            "Trainable params: 11,504,832\n",
            "Non-trainable params: 0\n",
            "Total mult-adds (M): 71.27\n",
            "==========================================================================================\n",
            "Input size (MB): 0.01\n",
            "Forward/backward pass size (MB): 0.72\n",
            "Params size (MB): 43.89\n",
            "Estimated Total Size (MB): 44.62\n",
            "==========================================================================================\n",
            "==========================================================================================\n",
            "Layer (type:depth-idx)                   Output Shape              Param #\n",
            "==========================================================================================\n",
            "├─Sequential: 1-1                        [-1, 512, 1, 1]           --\n",
            "|    └─Conv2d: 2-1                       [-1, 64, 16, 16]          9,408\n",
            "|    └─BatchNorm2d: 2-2                  [-1, 64, 16, 16]          128\n",
            "|    └─ReLU: 2-3                         [-1, 64, 16, 16]          --\n",
            "|    └─MaxPool2d: 2-4                    [-1, 64, 8, 8]            --\n",
            "|    └─Sequential: 2-5                   [-1, 64, 8, 8]            --\n",
            "|    |    └─BasicBlock: 3-1              [-1, 64, 8, 8]            73,984\n",
            "|    |    └─BasicBlock: 3-2              [-1, 64, 8, 8]            73,984\n",
            "|    └─Sequential: 2-6                   [-1, 128, 4, 4]           --\n",
            "|    |    └─BasicBlock: 3-3              [-1, 128, 4, 4]           230,144\n",
            "|    |    └─BasicBlock: 3-4              [-1, 128, 4, 4]           295,424\n",
            "|    └─Sequential: 2-7                   [-1, 256, 2, 2]           --\n",
            "|    |    └─BasicBlock: 3-5              [-1, 256, 2, 2]           919,040\n",
            "|    |    └─BasicBlock: 3-6              [-1, 256, 2, 2]           1,180,672\n",
            "|    └─Sequential: 2-8                   [-1, 512, 1, 1]           --\n",
            "|    |    └─BasicBlock: 3-7              [-1, 512, 1, 1]           3,673,088\n",
            "|    |    └─BasicBlock: 3-8              [-1, 512, 1, 1]           4,720,640\n",
            "|    └─AdaptiveAvgPool2d: 2-9            [-1, 512, 1, 1]           --\n",
            "├─SimCLRProjectionHead: 1-2              [-1, 128]                 --\n",
            "|    └─Sequential: 2-10                  [-1, 128]                 --\n",
            "|    |    └─Linear: 3-9                  [-1, 512]                 262,656\n",
            "|    |    └─ReLU: 3-10                   [-1, 512]                 --\n",
            "|    |    └─Linear: 3-11                 [-1, 128]                 65,664\n",
            "==========================================================================================\n",
            "Total params: 11,504,832\n",
            "Trainable params: 11,504,832\n",
            "Non-trainable params: 0\n",
            "Total mult-adds (M): 71.27\n",
            "==========================================================================================\n",
            "Input size (MB): 0.01\n",
            "Forward/backward pass size (MB): 0.72\n",
            "Params size (MB): 43.89\n",
            "Estimated Total Size (MB): 44.62\n",
            "==========================================================================================\n"
          ]
        }
      ]
    },
    {
      "cell_type": "code",
      "source": [
        "cifar10 = torchvision.datasets.CIFAR10(\"datasets/cifar10\", download=True)\n",
        "dataset = LightlyDataset.from_torch_dataset(cifar10)"
      ],
      "metadata": {
        "colab": {
          "base_uri": "https://localhost:8080/"
        },
        "id": "xj4mhIDnm84d",
        "outputId": "173f40a3-ea48-4201-cd3c-d6714ed0b8b4"
      },
      "execution_count": 41,
      "outputs": [
        {
          "output_type": "stream",
          "name": "stdout",
          "text": [
            "Files already downloaded and verified\n"
          ]
        }
      ]
    },
    {
      "cell_type": "code",
      "source": [
        "collate_fn = SimCLRCollateFunction(\n",
        "    input_size=32,\n",
        "    gaussian_blur=0.,\n",
        ")"
      ],
      "metadata": {
        "id": "t4uwNqcDnAEZ"
      },
      "execution_count": 42,
      "outputs": []
    },
    {
      "cell_type": "code",
      "source": [
        "dataloader = torch.utils.data.DataLoader(\n",
        "    dataset,\n",
        "    batch_size=256,\n",
        "    collate_fn=collate_fn,\n",
        "    shuffle=True,\n",
        "    drop_last=True,\n",
        "    num_workers=8,\n",
        ")"
      ],
      "metadata": {
        "colab": {
          "base_uri": "https://localhost:8080/"
        },
        "id": "P2mWCj5tnCH5",
        "outputId": "529b4dde-fed1-4a6b-b72f-6dd74a3a993c"
      },
      "execution_count": 43,
      "outputs": [
        {
          "output_type": "stream",
          "name": "stderr",
          "text": [
            "/usr/local/lib/python3.7/dist-packages/torch/utils/data/dataloader.py:481: UserWarning: This DataLoader will create 8 worker processes in total. Our suggested max number of worker in current system is 2, which is smaller than what this DataLoader is going to create. Please be aware that excessive worker creation might get DataLoader running slow or even freeze, lower the worker number to avoid potential slowness/freeze if necessary.\n",
            "  cpuset_checked))\n"
          ]
        }
      ]
    },
    {
      "cell_type": "code",
      "source": [
        "criterion = NTXentLoss()\n",
        "optimizer = torch.optim.SGD(model.parameters(), lr=0.06)"
      ],
      "metadata": {
        "id": "gPHX764-nD5I"
      },
      "execution_count": 44,
      "outputs": []
    },
    {
      "cell_type": "code",
      "source": [
        "print(\"Starting Training\")\n",
        "for epoch in range(3):\n",
        "    total_loss = 0\n",
        "    for (x0, x1), _, _ in dataloader:\n",
        "        x0 = x0.to(device)\n",
        "        x1 = x1.to(device)\n",
        "        z0 = model(x0)\n",
        "        z1 = model(x1)\n",
        "        loss = criterion(z0, z1)\n",
        "        total_loss += loss.detach()\n",
        "        loss.backward()\n",
        "        optimizer.step()\n",
        "        optimizer.zero_grad()\n",
        "    avg_loss = total_loss / len(dataloader)\n",
        "    print(f\"epoch: {epoch:>02}, loss: {avg_loss:.5f}\")"
      ],
      "metadata": {
        "colab": {
          "base_uri": "https://localhost:8080/"
        },
        "id": "be0HLUy-nGBt",
        "outputId": "3f899a1c-0b84-4716-eca1-f90d2c40918c"
      },
      "execution_count": 45,
      "outputs": [
        {
          "output_type": "stream",
          "name": "stdout",
          "text": [
            "Starting Training\n"
          ]
        },
        {
          "output_type": "stream",
          "name": "stderr",
          "text": [
            "/usr/local/lib/python3.7/dist-packages/torch/utils/data/dataloader.py:481: UserWarning: This DataLoader will create 8 worker processes in total. Our suggested max number of worker in current system is 2, which is smaller than what this DataLoader is going to create. Please be aware that excessive worker creation might get DataLoader running slow or even freeze, lower the worker number to avoid potential slowness/freeze if necessary.\n",
            "  cpuset_checked))\n"
          ]
        },
        {
          "output_type": "stream",
          "name": "stdout",
          "text": [
            "epoch: 00, loss: 5.22765\n",
            "epoch: 01, loss: 5.21985\n",
            "epoch: 02, loss: 5.20385\n"
          ]
        }
      ]
    }
  ]
}